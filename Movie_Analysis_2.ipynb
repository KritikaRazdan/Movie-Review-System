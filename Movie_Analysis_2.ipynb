{
  "nbformat": 4,
  "nbformat_minor": 0,
  "metadata": {
    "colab": {
      "provenance": [],
      "gpuType": "T4",
      "include_colab_link": true
    },
    "kernelspec": {
      "name": "python3",
      "display_name": "Python 3"
    },
    "language_info": {
      "name": "python"
    },
    "widgets": {
      "application/vnd.jupyter.widget-state+json": {
        "2342716598bf4737bf8d122e20e7fd39": {
          "model_module": "@jupyter-widgets/controls",
          "model_name": "HBoxModel",
          "model_module_version": "1.5.0",
          "state": {
            "_dom_classes": [],
            "_model_module": "@jupyter-widgets/controls",
            "_model_module_version": "1.5.0",
            "_model_name": "HBoxModel",
            "_view_count": null,
            "_view_module": "@jupyter-widgets/controls",
            "_view_module_version": "1.5.0",
            "_view_name": "HBoxView",
            "box_style": "",
            "children": [
              "IPY_MODEL_73d73eea3b244671bbb313209311dc21",
              "IPY_MODEL_862a963305244e6c9d2d17fc22722811",
              "IPY_MODEL_9514c512ab9a47d9836d0553e7a07e2d"
            ],
            "layout": "IPY_MODEL_03d3f16f6b964ecab6ab10fd7c1e361c"
          }
        },
        "73d73eea3b244671bbb313209311dc21": {
          "model_module": "@jupyter-widgets/controls",
          "model_name": "HTMLModel",
          "model_module_version": "1.5.0",
          "state": {
            "_dom_classes": [],
            "_model_module": "@jupyter-widgets/controls",
            "_model_module_version": "1.5.0",
            "_model_name": "HTMLModel",
            "_view_count": null,
            "_view_module": "@jupyter-widgets/controls",
            "_view_module_version": "1.5.0",
            "_view_name": "HTMLView",
            "description": "",
            "description_tooltip": null,
            "layout": "IPY_MODEL_2c216600a8374d33a329875169c30062",
            "placeholder": "​",
            "style": "IPY_MODEL_8c4c57e68f0b4d59b56ff92fc18e4a15",
            "value": "100%"
          }
        },
        "862a963305244e6c9d2d17fc22722811": {
          "model_module": "@jupyter-widgets/controls",
          "model_name": "FloatProgressModel",
          "model_module_version": "1.5.0",
          "state": {
            "_dom_classes": [],
            "_model_module": "@jupyter-widgets/controls",
            "_model_module_version": "1.5.0",
            "_model_name": "FloatProgressModel",
            "_view_count": null,
            "_view_module": "@jupyter-widgets/controls",
            "_view_module_version": "1.5.0",
            "_view_name": "ProgressView",
            "bar_style": "success",
            "description": "",
            "description_tooltip": null,
            "layout": "IPY_MODEL_d68131de484e4bacb99d823e449ef239",
            "max": 50000,
            "min": 0,
            "orientation": "horizontal",
            "style": "IPY_MODEL_250372b561444c2e9a7954bd94aa67d7",
            "value": 50000
          }
        },
        "9514c512ab9a47d9836d0553e7a07e2d": {
          "model_module": "@jupyter-widgets/controls",
          "model_name": "HTMLModel",
          "model_module_version": "1.5.0",
          "state": {
            "_dom_classes": [],
            "_model_module": "@jupyter-widgets/controls",
            "_model_module_version": "1.5.0",
            "_model_name": "HTMLModel",
            "_view_count": null,
            "_view_module": "@jupyter-widgets/controls",
            "_view_module_version": "1.5.0",
            "_view_name": "HTMLView",
            "description": "",
            "description_tooltip": null,
            "layout": "IPY_MODEL_185a4a0903f24cf48a31795b0a411948",
            "placeholder": "​",
            "style": "IPY_MODEL_26cbfc2c07db4f6f88b0311d29529d4c",
            "value": " 50000/50000 [19:54&lt;00:00, 48.42it/s]"
          }
        },
        "03d3f16f6b964ecab6ab10fd7c1e361c": {
          "model_module": "@jupyter-widgets/base",
          "model_name": "LayoutModel",
          "model_module_version": "1.2.0",
          "state": {
            "_model_module": "@jupyter-widgets/base",
            "_model_module_version": "1.2.0",
            "_model_name": "LayoutModel",
            "_view_count": null,
            "_view_module": "@jupyter-widgets/base",
            "_view_module_version": "1.2.0",
            "_view_name": "LayoutView",
            "align_content": null,
            "align_items": null,
            "align_self": null,
            "border": null,
            "bottom": null,
            "display": null,
            "flex": null,
            "flex_flow": null,
            "grid_area": null,
            "grid_auto_columns": null,
            "grid_auto_flow": null,
            "grid_auto_rows": null,
            "grid_column": null,
            "grid_gap": null,
            "grid_row": null,
            "grid_template_areas": null,
            "grid_template_columns": null,
            "grid_template_rows": null,
            "height": null,
            "justify_content": null,
            "justify_items": null,
            "left": null,
            "margin": null,
            "max_height": null,
            "max_width": null,
            "min_height": null,
            "min_width": null,
            "object_fit": null,
            "object_position": null,
            "order": null,
            "overflow": null,
            "overflow_x": null,
            "overflow_y": null,
            "padding": null,
            "right": null,
            "top": null,
            "visibility": null,
            "width": null
          }
        },
        "2c216600a8374d33a329875169c30062": {
          "model_module": "@jupyter-widgets/base",
          "model_name": "LayoutModel",
          "model_module_version": "1.2.0",
          "state": {
            "_model_module": "@jupyter-widgets/base",
            "_model_module_version": "1.2.0",
            "_model_name": "LayoutModel",
            "_view_count": null,
            "_view_module": "@jupyter-widgets/base",
            "_view_module_version": "1.2.0",
            "_view_name": "LayoutView",
            "align_content": null,
            "align_items": null,
            "align_self": null,
            "border": null,
            "bottom": null,
            "display": null,
            "flex": null,
            "flex_flow": null,
            "grid_area": null,
            "grid_auto_columns": null,
            "grid_auto_flow": null,
            "grid_auto_rows": null,
            "grid_column": null,
            "grid_gap": null,
            "grid_row": null,
            "grid_template_areas": null,
            "grid_template_columns": null,
            "grid_template_rows": null,
            "height": null,
            "justify_content": null,
            "justify_items": null,
            "left": null,
            "margin": null,
            "max_height": null,
            "max_width": null,
            "min_height": null,
            "min_width": null,
            "object_fit": null,
            "object_position": null,
            "order": null,
            "overflow": null,
            "overflow_x": null,
            "overflow_y": null,
            "padding": null,
            "right": null,
            "top": null,
            "visibility": null,
            "width": null
          }
        },
        "8c4c57e68f0b4d59b56ff92fc18e4a15": {
          "model_module": "@jupyter-widgets/controls",
          "model_name": "DescriptionStyleModel",
          "model_module_version": "1.5.0",
          "state": {
            "_model_module": "@jupyter-widgets/controls",
            "_model_module_version": "1.5.0",
            "_model_name": "DescriptionStyleModel",
            "_view_count": null,
            "_view_module": "@jupyter-widgets/base",
            "_view_module_version": "1.2.0",
            "_view_name": "StyleView",
            "description_width": ""
          }
        },
        "d68131de484e4bacb99d823e449ef239": {
          "model_module": "@jupyter-widgets/base",
          "model_name": "LayoutModel",
          "model_module_version": "1.2.0",
          "state": {
            "_model_module": "@jupyter-widgets/base",
            "_model_module_version": "1.2.0",
            "_model_name": "LayoutModel",
            "_view_count": null,
            "_view_module": "@jupyter-widgets/base",
            "_view_module_version": "1.2.0",
            "_view_name": "LayoutView",
            "align_content": null,
            "align_items": null,
            "align_self": null,
            "border": null,
            "bottom": null,
            "display": null,
            "flex": null,
            "flex_flow": null,
            "grid_area": null,
            "grid_auto_columns": null,
            "grid_auto_flow": null,
            "grid_auto_rows": null,
            "grid_column": null,
            "grid_gap": null,
            "grid_row": null,
            "grid_template_areas": null,
            "grid_template_columns": null,
            "grid_template_rows": null,
            "height": null,
            "justify_content": null,
            "justify_items": null,
            "left": null,
            "margin": null,
            "max_height": null,
            "max_width": null,
            "min_height": null,
            "min_width": null,
            "object_fit": null,
            "object_position": null,
            "order": null,
            "overflow": null,
            "overflow_x": null,
            "overflow_y": null,
            "padding": null,
            "right": null,
            "top": null,
            "visibility": null,
            "width": null
          }
        },
        "250372b561444c2e9a7954bd94aa67d7": {
          "model_module": "@jupyter-widgets/controls",
          "model_name": "ProgressStyleModel",
          "model_module_version": "1.5.0",
          "state": {
            "_model_module": "@jupyter-widgets/controls",
            "_model_module_version": "1.5.0",
            "_model_name": "ProgressStyleModel",
            "_view_count": null,
            "_view_module": "@jupyter-widgets/base",
            "_view_module_version": "1.2.0",
            "_view_name": "StyleView",
            "bar_color": null,
            "description_width": ""
          }
        },
        "185a4a0903f24cf48a31795b0a411948": {
          "model_module": "@jupyter-widgets/base",
          "model_name": "LayoutModel",
          "model_module_version": "1.2.0",
          "state": {
            "_model_module": "@jupyter-widgets/base",
            "_model_module_version": "1.2.0",
            "_model_name": "LayoutModel",
            "_view_count": null,
            "_view_module": "@jupyter-widgets/base",
            "_view_module_version": "1.2.0",
            "_view_name": "LayoutView",
            "align_content": null,
            "align_items": null,
            "align_self": null,
            "border": null,
            "bottom": null,
            "display": null,
            "flex": null,
            "flex_flow": null,
            "grid_area": null,
            "grid_auto_columns": null,
            "grid_auto_flow": null,
            "grid_auto_rows": null,
            "grid_column": null,
            "grid_gap": null,
            "grid_row": null,
            "grid_template_areas": null,
            "grid_template_columns": null,
            "grid_template_rows": null,
            "height": null,
            "justify_content": null,
            "justify_items": null,
            "left": null,
            "margin": null,
            "max_height": null,
            "max_width": null,
            "min_height": null,
            "min_width": null,
            "object_fit": null,
            "object_position": null,
            "order": null,
            "overflow": null,
            "overflow_x": null,
            "overflow_y": null,
            "padding": null,
            "right": null,
            "top": null,
            "visibility": null,
            "width": null
          }
        },
        "26cbfc2c07db4f6f88b0311d29529d4c": {
          "model_module": "@jupyter-widgets/controls",
          "model_name": "DescriptionStyleModel",
          "model_module_version": "1.5.0",
          "state": {
            "_model_module": "@jupyter-widgets/controls",
            "_model_module_version": "1.5.0",
            "_model_name": "DescriptionStyleModel",
            "_view_count": null,
            "_view_module": "@jupyter-widgets/base",
            "_view_module_version": "1.2.0",
            "_view_name": "StyleView",
            "description_width": ""
          }
        }
      }
    },
    "gpuClass": "standard",
    "accelerator": "GPU"
  },
  "cells": [
    {
      "cell_type": "markdown",
      "metadata": {
        "id": "view-in-github",
        "colab_type": "text"
      },
      "source": [
        "<a href=\"https://colab.research.google.com/github/KritikaRazdan/Movie-Review-System/blob/main/Movie_Analysis_2.ipynb\" target=\"_parent\"><img src=\"https://colab.research.google.com/assets/colab-badge.svg\" alt=\"Open In Colab\"/></a>"
      ]
    },
    {
      "cell_type": "code",
      "source": [
        "\n",
        "from google.colab import drive\n",
        "drive.mount('/content/drive')"
      ],
      "metadata": {
        "id": "Z3kgbER0PJwS",
        "colab": {
          "base_uri": "https://localhost:8080/"
        },
        "outputId": "4a943c7f-7697-4969-e8f6-58ba587eae1d"
      },
      "execution_count": null,
      "outputs": [
        {
          "output_type": "stream",
          "name": "stdout",
          "text": [
            "Drive already mounted at /content/drive; to attempt to forcibly remount, call drive.mount(\"/content/drive\", force_remount=True).\n"
          ]
        }
      ]
    },
    {
      "cell_type": "code",
      "execution_count": null,
      "metadata": {
        "id": "85ZcwZJcMvXR"
      },
      "outputs": [],
      "source": [
        "import pandas as pd\n",
        "import re\n",
        "import nltk\n",
        "from nltk.corpus import stopwords\n",
        "from nltk.stem import PorterStemmer\n",
        "from sklearn.feature_extraction.text import CountVectorizer\n",
        "\n",
        "import seaborn as sns\n",
        "import matplotlib.pyplot as plt\n",
        "\n",
        "from tqdm.auto import tqdm\n",
        "import time"
      ]
    },
    {
      "cell_type": "code",
      "source": [
        "\n",
        "data = pd.read_csv(\"/content/drive/MyDrive/IMDB Dataset.csv\")\n",
        "data\n",
        "print(data.dtypes)\n",
        "data.columns\n",
        "data.describe()"
      ],
      "metadata": {
        "id": "eMX1YQUkOmiS",
        "colab": {
          "base_uri": "https://localhost:8080/",
          "height": 227
        },
        "outputId": "38df6c87-9814-4c9b-e437-4039fd5be8a6"
      },
      "execution_count": null,
      "outputs": [
        {
          "output_type": "stream",
          "name": "stdout",
          "text": [
            "review       object\n",
            "sentiment    object\n",
            "dtype: object\n"
          ]
        },
        {
          "output_type": "execute_result",
          "data": {
            "text/plain": [
              "                                                   review sentiment\n",
              "count                                               50000     50000\n",
              "unique                                              49582         2\n",
              "top     Loved today's show!!! It was a variety and not...  positive\n",
              "freq                                                    5     25000"
            ],
            "text/html": [
              "\n",
              "  <div id=\"df-eef43ad7-e97b-484a-a42c-6ebc6fe8b9b1\">\n",
              "    <div class=\"colab-df-container\">\n",
              "      <div>\n",
              "<style scoped>\n",
              "    .dataframe tbody tr th:only-of-type {\n",
              "        vertical-align: middle;\n",
              "    }\n",
              "\n",
              "    .dataframe tbody tr th {\n",
              "        vertical-align: top;\n",
              "    }\n",
              "\n",
              "    .dataframe thead th {\n",
              "        text-align: right;\n",
              "    }\n",
              "</style>\n",
              "<table border=\"1\" class=\"dataframe\">\n",
              "  <thead>\n",
              "    <tr style=\"text-align: right;\">\n",
              "      <th></th>\n",
              "      <th>review</th>\n",
              "      <th>sentiment</th>\n",
              "    </tr>\n",
              "  </thead>\n",
              "  <tbody>\n",
              "    <tr>\n",
              "      <th>count</th>\n",
              "      <td>50000</td>\n",
              "      <td>50000</td>\n",
              "    </tr>\n",
              "    <tr>\n",
              "      <th>unique</th>\n",
              "      <td>49582</td>\n",
              "      <td>2</td>\n",
              "    </tr>\n",
              "    <tr>\n",
              "      <th>top</th>\n",
              "      <td>Loved today's show!!! It was a variety and not...</td>\n",
              "      <td>positive</td>\n",
              "    </tr>\n",
              "    <tr>\n",
              "      <th>freq</th>\n",
              "      <td>5</td>\n",
              "      <td>25000</td>\n",
              "    </tr>\n",
              "  </tbody>\n",
              "</table>\n",
              "</div>\n",
              "      <button class=\"colab-df-convert\" onclick=\"convertToInteractive('df-eef43ad7-e97b-484a-a42c-6ebc6fe8b9b1')\"\n",
              "              title=\"Convert this dataframe to an interactive table.\"\n",
              "              style=\"display:none;\">\n",
              "        \n",
              "  <svg xmlns=\"http://www.w3.org/2000/svg\" height=\"24px\"viewBox=\"0 0 24 24\"\n",
              "       width=\"24px\">\n",
              "    <path d=\"M0 0h24v24H0V0z\" fill=\"none\"/>\n",
              "    <path d=\"M18.56 5.44l.94 2.06.94-2.06 2.06-.94-2.06-.94-.94-2.06-.94 2.06-2.06.94zm-11 1L8.5 8.5l.94-2.06 2.06-.94-2.06-.94L8.5 2.5l-.94 2.06-2.06.94zm10 10l.94 2.06.94-2.06 2.06-.94-2.06-.94-.94-2.06-.94 2.06-2.06.94z\"/><path d=\"M17.41 7.96l-1.37-1.37c-.4-.4-.92-.59-1.43-.59-.52 0-1.04.2-1.43.59L10.3 9.45l-7.72 7.72c-.78.78-.78 2.05 0 2.83L4 21.41c.39.39.9.59 1.41.59.51 0 1.02-.2 1.41-.59l7.78-7.78 2.81-2.81c.8-.78.8-2.07 0-2.86zM5.41 20L4 18.59l7.72-7.72 1.47 1.35L5.41 20z\"/>\n",
              "  </svg>\n",
              "      </button>\n",
              "      \n",
              "  <style>\n",
              "    .colab-df-container {\n",
              "      display:flex;\n",
              "      flex-wrap:wrap;\n",
              "      gap: 12px;\n",
              "    }\n",
              "\n",
              "    .colab-df-convert {\n",
              "      background-color: #E8F0FE;\n",
              "      border: none;\n",
              "      border-radius: 50%;\n",
              "      cursor: pointer;\n",
              "      display: none;\n",
              "      fill: #1967D2;\n",
              "      height: 32px;\n",
              "      padding: 0 0 0 0;\n",
              "      width: 32px;\n",
              "    }\n",
              "\n",
              "    .colab-df-convert:hover {\n",
              "      background-color: #E2EBFA;\n",
              "      box-shadow: 0px 1px 2px rgba(60, 64, 67, 0.3), 0px 1px 3px 1px rgba(60, 64, 67, 0.15);\n",
              "      fill: #174EA6;\n",
              "    }\n",
              "\n",
              "    [theme=dark] .colab-df-convert {\n",
              "      background-color: #3B4455;\n",
              "      fill: #D2E3FC;\n",
              "    }\n",
              "\n",
              "    [theme=dark] .colab-df-convert:hover {\n",
              "      background-color: #434B5C;\n",
              "      box-shadow: 0px 1px 3px 1px rgba(0, 0, 0, 0.15);\n",
              "      filter: drop-shadow(0px 1px 2px rgba(0, 0, 0, 0.3));\n",
              "      fill: #FFFFFF;\n",
              "    }\n",
              "  </style>\n",
              "\n",
              "      <script>\n",
              "        const buttonEl =\n",
              "          document.querySelector('#df-eef43ad7-e97b-484a-a42c-6ebc6fe8b9b1 button.colab-df-convert');\n",
              "        buttonEl.style.display =\n",
              "          google.colab.kernel.accessAllowed ? 'block' : 'none';\n",
              "\n",
              "        async function convertToInteractive(key) {\n",
              "          const element = document.querySelector('#df-eef43ad7-e97b-484a-a42c-6ebc6fe8b9b1');\n",
              "          const dataTable =\n",
              "            await google.colab.kernel.invokeFunction('convertToInteractive',\n",
              "                                                     [key], {});\n",
              "          if (!dataTable) return;\n",
              "\n",
              "          const docLinkHtml = 'Like what you see? Visit the ' +\n",
              "            '<a target=\"_blank\" href=https://colab.research.google.com/notebooks/data_table.ipynb>data table notebook</a>'\n",
              "            + ' to learn more about interactive tables.';\n",
              "          element.innerHTML = '';\n",
              "          dataTable['output_type'] = 'display_data';\n",
              "          await google.colab.output.renderOutput(dataTable, element);\n",
              "          const docLink = document.createElement('div');\n",
              "          docLink.innerHTML = docLinkHtml;\n",
              "          element.appendChild(docLink);\n",
              "        }\n",
              "      </script>\n",
              "    </div>\n",
              "  </div>\n",
              "  "
            ]
          },
          "metadata": {},
          "execution_count": 3
        }
      ]
    },
    {
      "cell_type": "code",
      "source": [
        "print(type(data))"
      ],
      "metadata": {
        "colab": {
          "base_uri": "https://localhost:8080/"
        },
        "id": "pmY9j42cDePJ",
        "outputId": "c8691f1e-64df-4119-8e59-d73ab7673660"
      },
      "execution_count": null,
      "outputs": [
        {
          "output_type": "stream",
          "name": "stdout",
          "text": [
            "<class 'pandas.core.frame.DataFrame'>\n"
          ]
        }
      ]
    },
    {
      "cell_type": "code",
      "source": [
        "data.head(3)"
      ],
      "metadata": {
        "colab": {
          "base_uri": "https://localhost:8080/",
          "height": 143
        },
        "id": "kWiRaU1LN38N",
        "outputId": "12b2cde7-f11f-442c-d695-c25bf6c00bbd"
      },
      "execution_count": null,
      "outputs": [
        {
          "output_type": "execute_result",
          "data": {
            "text/plain": [
              "                                              review sentiment\n",
              "0  One of the other reviewers has mentioned that ...  positive\n",
              "1  A wonderful little production. <br /><br />The...  positive\n",
              "2  I thought this was a wonderful way to spend ti...  positive"
            ],
            "text/html": [
              "\n",
              "  <div id=\"df-8a156c87-f362-4695-8dca-5c1d059ebefa\">\n",
              "    <div class=\"colab-df-container\">\n",
              "      <div>\n",
              "<style scoped>\n",
              "    .dataframe tbody tr th:only-of-type {\n",
              "        vertical-align: middle;\n",
              "    }\n",
              "\n",
              "    .dataframe tbody tr th {\n",
              "        vertical-align: top;\n",
              "    }\n",
              "\n",
              "    .dataframe thead th {\n",
              "        text-align: right;\n",
              "    }\n",
              "</style>\n",
              "<table border=\"1\" class=\"dataframe\">\n",
              "  <thead>\n",
              "    <tr style=\"text-align: right;\">\n",
              "      <th></th>\n",
              "      <th>review</th>\n",
              "      <th>sentiment</th>\n",
              "    </tr>\n",
              "  </thead>\n",
              "  <tbody>\n",
              "    <tr>\n",
              "      <th>0</th>\n",
              "      <td>One of the other reviewers has mentioned that ...</td>\n",
              "      <td>positive</td>\n",
              "    </tr>\n",
              "    <tr>\n",
              "      <th>1</th>\n",
              "      <td>A wonderful little production. &lt;br /&gt;&lt;br /&gt;The...</td>\n",
              "      <td>positive</td>\n",
              "    </tr>\n",
              "    <tr>\n",
              "      <th>2</th>\n",
              "      <td>I thought this was a wonderful way to spend ti...</td>\n",
              "      <td>positive</td>\n",
              "    </tr>\n",
              "  </tbody>\n",
              "</table>\n",
              "</div>\n",
              "      <button class=\"colab-df-convert\" onclick=\"convertToInteractive('df-8a156c87-f362-4695-8dca-5c1d059ebefa')\"\n",
              "              title=\"Convert this dataframe to an interactive table.\"\n",
              "              style=\"display:none;\">\n",
              "        \n",
              "  <svg xmlns=\"http://www.w3.org/2000/svg\" height=\"24px\"viewBox=\"0 0 24 24\"\n",
              "       width=\"24px\">\n",
              "    <path d=\"M0 0h24v24H0V0z\" fill=\"none\"/>\n",
              "    <path d=\"M18.56 5.44l.94 2.06.94-2.06 2.06-.94-2.06-.94-.94-2.06-.94 2.06-2.06.94zm-11 1L8.5 8.5l.94-2.06 2.06-.94-2.06-.94L8.5 2.5l-.94 2.06-2.06.94zm10 10l.94 2.06.94-2.06 2.06-.94-2.06-.94-.94-2.06-.94 2.06-2.06.94z\"/><path d=\"M17.41 7.96l-1.37-1.37c-.4-.4-.92-.59-1.43-.59-.52 0-1.04.2-1.43.59L10.3 9.45l-7.72 7.72c-.78.78-.78 2.05 0 2.83L4 21.41c.39.39.9.59 1.41.59.51 0 1.02-.2 1.41-.59l7.78-7.78 2.81-2.81c.8-.78.8-2.07 0-2.86zM5.41 20L4 18.59l7.72-7.72 1.47 1.35L5.41 20z\"/>\n",
              "  </svg>\n",
              "      </button>\n",
              "      \n",
              "  <style>\n",
              "    .colab-df-container {\n",
              "      display:flex;\n",
              "      flex-wrap:wrap;\n",
              "      gap: 12px;\n",
              "    }\n",
              "\n",
              "    .colab-df-convert {\n",
              "      background-color: #E8F0FE;\n",
              "      border: none;\n",
              "      border-radius: 50%;\n",
              "      cursor: pointer;\n",
              "      display: none;\n",
              "      fill: #1967D2;\n",
              "      height: 32px;\n",
              "      padding: 0 0 0 0;\n",
              "      width: 32px;\n",
              "    }\n",
              "\n",
              "    .colab-df-convert:hover {\n",
              "      background-color: #E2EBFA;\n",
              "      box-shadow: 0px 1px 2px rgba(60, 64, 67, 0.3), 0px 1px 3px 1px rgba(60, 64, 67, 0.15);\n",
              "      fill: #174EA6;\n",
              "    }\n",
              "\n",
              "    [theme=dark] .colab-df-convert {\n",
              "      background-color: #3B4455;\n",
              "      fill: #D2E3FC;\n",
              "    }\n",
              "\n",
              "    [theme=dark] .colab-df-convert:hover {\n",
              "      background-color: #434B5C;\n",
              "      box-shadow: 0px 1px 3px 1px rgba(0, 0, 0, 0.15);\n",
              "      filter: drop-shadow(0px 1px 2px rgba(0, 0, 0, 0.3));\n",
              "      fill: #FFFFFF;\n",
              "    }\n",
              "  </style>\n",
              "\n",
              "      <script>\n",
              "        const buttonEl =\n",
              "          document.querySelector('#df-8a156c87-f362-4695-8dca-5c1d059ebefa button.colab-df-convert');\n",
              "        buttonEl.style.display =\n",
              "          google.colab.kernel.accessAllowed ? 'block' : 'none';\n",
              "\n",
              "        async function convertToInteractive(key) {\n",
              "          const element = document.querySelector('#df-8a156c87-f362-4695-8dca-5c1d059ebefa');\n",
              "          const dataTable =\n",
              "            await google.colab.kernel.invokeFunction('convertToInteractive',\n",
              "                                                     [key], {});\n",
              "          if (!dataTable) return;\n",
              "\n",
              "          const docLinkHtml = 'Like what you see? Visit the ' +\n",
              "            '<a target=\"_blank\" href=https://colab.research.google.com/notebooks/data_table.ipynb>data table notebook</a>'\n",
              "            + ' to learn more about interactive tables.';\n",
              "          element.innerHTML = '';\n",
              "          dataTable['output_type'] = 'display_data';\n",
              "          await google.colab.output.renderOutput(dataTable, element);\n",
              "          const docLink = document.createElement('div');\n",
              "          docLink.innerHTML = docLinkHtml;\n",
              "          element.appendChild(docLink);\n",
              "        }\n",
              "      </script>\n",
              "    </div>\n",
              "  </div>\n",
              "  "
            ]
          },
          "metadata": {},
          "execution_count": 5
        }
      ]
    },
    {
      "cell_type": "code",
      "source": [
        "data.tail()"
      ],
      "metadata": {
        "colab": {
          "base_uri": "https://localhost:8080/",
          "height": 206
        },
        "id": "X03pemcQSt2E",
        "outputId": "75bd638c-5986-46a8-b31c-94ab69709fc3"
      },
      "execution_count": null,
      "outputs": [
        {
          "output_type": "execute_result",
          "data": {
            "text/plain": [
              "                                                  review sentiment\n",
              "49995  I thought this movie did a down right good job...  positive\n",
              "49996  Bad plot, bad dialogue, bad acting, idiotic di...  negative\n",
              "49997  I am a Catholic taught in parochial elementary...  negative\n",
              "49998  I'm going to have to disagree with the previou...  negative\n",
              "49999  No one expects the Star Trek movies to be high...  negative"
            ],
            "text/html": [
              "\n",
              "  <div id=\"df-cdffb2ff-df0c-4769-9345-21893cdf68ba\">\n",
              "    <div class=\"colab-df-container\">\n",
              "      <div>\n",
              "<style scoped>\n",
              "    .dataframe tbody tr th:only-of-type {\n",
              "        vertical-align: middle;\n",
              "    }\n",
              "\n",
              "    .dataframe tbody tr th {\n",
              "        vertical-align: top;\n",
              "    }\n",
              "\n",
              "    .dataframe thead th {\n",
              "        text-align: right;\n",
              "    }\n",
              "</style>\n",
              "<table border=\"1\" class=\"dataframe\">\n",
              "  <thead>\n",
              "    <tr style=\"text-align: right;\">\n",
              "      <th></th>\n",
              "      <th>review</th>\n",
              "      <th>sentiment</th>\n",
              "    </tr>\n",
              "  </thead>\n",
              "  <tbody>\n",
              "    <tr>\n",
              "      <th>49995</th>\n",
              "      <td>I thought this movie did a down right good job...</td>\n",
              "      <td>positive</td>\n",
              "    </tr>\n",
              "    <tr>\n",
              "      <th>49996</th>\n",
              "      <td>Bad plot, bad dialogue, bad acting, idiotic di...</td>\n",
              "      <td>negative</td>\n",
              "    </tr>\n",
              "    <tr>\n",
              "      <th>49997</th>\n",
              "      <td>I am a Catholic taught in parochial elementary...</td>\n",
              "      <td>negative</td>\n",
              "    </tr>\n",
              "    <tr>\n",
              "      <th>49998</th>\n",
              "      <td>I'm going to have to disagree with the previou...</td>\n",
              "      <td>negative</td>\n",
              "    </tr>\n",
              "    <tr>\n",
              "      <th>49999</th>\n",
              "      <td>No one expects the Star Trek movies to be high...</td>\n",
              "      <td>negative</td>\n",
              "    </tr>\n",
              "  </tbody>\n",
              "</table>\n",
              "</div>\n",
              "      <button class=\"colab-df-convert\" onclick=\"convertToInteractive('df-cdffb2ff-df0c-4769-9345-21893cdf68ba')\"\n",
              "              title=\"Convert this dataframe to an interactive table.\"\n",
              "              style=\"display:none;\">\n",
              "        \n",
              "  <svg xmlns=\"http://www.w3.org/2000/svg\" height=\"24px\"viewBox=\"0 0 24 24\"\n",
              "       width=\"24px\">\n",
              "    <path d=\"M0 0h24v24H0V0z\" fill=\"none\"/>\n",
              "    <path d=\"M18.56 5.44l.94 2.06.94-2.06 2.06-.94-2.06-.94-.94-2.06-.94 2.06-2.06.94zm-11 1L8.5 8.5l.94-2.06 2.06-.94-2.06-.94L8.5 2.5l-.94 2.06-2.06.94zm10 10l.94 2.06.94-2.06 2.06-.94-2.06-.94-.94-2.06-.94 2.06-2.06.94z\"/><path d=\"M17.41 7.96l-1.37-1.37c-.4-.4-.92-.59-1.43-.59-.52 0-1.04.2-1.43.59L10.3 9.45l-7.72 7.72c-.78.78-.78 2.05 0 2.83L4 21.41c.39.39.9.59 1.41.59.51 0 1.02-.2 1.41-.59l7.78-7.78 2.81-2.81c.8-.78.8-2.07 0-2.86zM5.41 20L4 18.59l7.72-7.72 1.47 1.35L5.41 20z\"/>\n",
              "  </svg>\n",
              "      </button>\n",
              "      \n",
              "  <style>\n",
              "    .colab-df-container {\n",
              "      display:flex;\n",
              "      flex-wrap:wrap;\n",
              "      gap: 12px;\n",
              "    }\n",
              "\n",
              "    .colab-df-convert {\n",
              "      background-color: #E8F0FE;\n",
              "      border: none;\n",
              "      border-radius: 50%;\n",
              "      cursor: pointer;\n",
              "      display: none;\n",
              "      fill: #1967D2;\n",
              "      height: 32px;\n",
              "      padding: 0 0 0 0;\n",
              "      width: 32px;\n",
              "    }\n",
              "\n",
              "    .colab-df-convert:hover {\n",
              "      background-color: #E2EBFA;\n",
              "      box-shadow: 0px 1px 2px rgba(60, 64, 67, 0.3), 0px 1px 3px 1px rgba(60, 64, 67, 0.15);\n",
              "      fill: #174EA6;\n",
              "    }\n",
              "\n",
              "    [theme=dark] .colab-df-convert {\n",
              "      background-color: #3B4455;\n",
              "      fill: #D2E3FC;\n",
              "    }\n",
              "\n",
              "    [theme=dark] .colab-df-convert:hover {\n",
              "      background-color: #434B5C;\n",
              "      box-shadow: 0px 1px 3px 1px rgba(0, 0, 0, 0.15);\n",
              "      filter: drop-shadow(0px 1px 2px rgba(0, 0, 0, 0.3));\n",
              "      fill: #FFFFFF;\n",
              "    }\n",
              "  </style>\n",
              "\n",
              "      <script>\n",
              "        const buttonEl =\n",
              "          document.querySelector('#df-cdffb2ff-df0c-4769-9345-21893cdf68ba button.colab-df-convert');\n",
              "        buttonEl.style.display =\n",
              "          google.colab.kernel.accessAllowed ? 'block' : 'none';\n",
              "\n",
              "        async function convertToInteractive(key) {\n",
              "          const element = document.querySelector('#df-cdffb2ff-df0c-4769-9345-21893cdf68ba');\n",
              "          const dataTable =\n",
              "            await google.colab.kernel.invokeFunction('convertToInteractive',\n",
              "                                                     [key], {});\n",
              "          if (!dataTable) return;\n",
              "\n",
              "          const docLinkHtml = 'Like what you see? Visit the ' +\n",
              "            '<a target=\"_blank\" href=https://colab.research.google.com/notebooks/data_table.ipynb>data table notebook</a>'\n",
              "            + ' to learn more about interactive tables.';\n",
              "          element.innerHTML = '';\n",
              "          dataTable['output_type'] = 'display_data';\n",
              "          await google.colab.output.renderOutput(dataTable, element);\n",
              "          const docLink = document.createElement('div');\n",
              "          docLink.innerHTML = docLinkHtml;\n",
              "          element.appendChild(docLink);\n",
              "        }\n",
              "      </script>\n",
              "    </div>\n",
              "  </div>\n",
              "  "
            ]
          },
          "metadata": {},
          "execution_count": 6
        }
      ]
    },
    {
      "cell_type": "code",
      "source": [
        "data.isna().any()"
      ],
      "metadata": {
        "colab": {
          "base_uri": "https://localhost:8080/"
        },
        "id": "nucc_n5kSwhk",
        "outputId": "07b6a550-ea9f-47fa-f53c-f2ed1aa0cd59"
      },
      "execution_count": null,
      "outputs": [
        {
          "output_type": "execute_result",
          "data": {
            "text/plain": [
              "review       False\n",
              "sentiment    False\n",
              "dtype: bool"
            ]
          },
          "metadata": {},
          "execution_count": 7
        }
      ]
    },
    {
      "cell_type": "code",
      "source": [
        "data.isna().sum()"
      ],
      "metadata": {
        "colab": {
          "base_uri": "https://localhost:8080/"
        },
        "id": "KJelubeyS0bU",
        "outputId": "8c5ba548-f0bf-40a7-ea75-64c4175f2b9e"
      },
      "execution_count": null,
      "outputs": [
        {
          "output_type": "execute_result",
          "data": {
            "text/plain": [
              "review       0\n",
              "sentiment    0\n",
              "dtype: int64"
            ]
          },
          "metadata": {},
          "execution_count": 8
        }
      ]
    },
    {
      "cell_type": "code",
      "source": [
        "data['review'].nunique()"
      ],
      "metadata": {
        "colab": {
          "base_uri": "https://localhost:8080/"
        },
        "id": "wCk5wNaJS3ma",
        "outputId": "648440b8-1acb-4069-eb11-047247188ee4"
      },
      "execution_count": null,
      "outputs": [
        {
          "output_type": "execute_result",
          "data": {
            "text/plain": [
              "49582"
            ]
          },
          "metadata": {},
          "execution_count": 9
        }
      ]
    },
    {
      "cell_type": "code",
      "source": [
        "data.shape"
      ],
      "metadata": {
        "colab": {
          "base_uri": "https://localhost:8080/"
        },
        "id": "sCjr9Xt-S6bK",
        "outputId": "1247a225-8ddb-4a06-a220-be497d61e4a4"
      },
      "execution_count": null,
      "outputs": [
        {
          "output_type": "execute_result",
          "data": {
            "text/plain": [
              "(50000, 2)"
            ]
          },
          "metadata": {},
          "execution_count": 10
        }
      ]
    },
    {
      "cell_type": "code",
      "source": [
        "data['review'].drop_duplicates(inplace = True)"
      ],
      "metadata": {
        "id": "tI_FxzLJS-Lh"
      },
      "execution_count": null,
      "outputs": []
    },
    {
      "cell_type": "code",
      "source": [
        "data['review'].nunique()"
      ],
      "metadata": {
        "colab": {
          "base_uri": "https://localhost:8080/"
        },
        "id": "Ek_DVKYMTA14",
        "outputId": "d072a9b6-f009-405b-c309-2941c1285b54"
      },
      "execution_count": null,
      "outputs": [
        {
          "output_type": "execute_result",
          "data": {
            "text/plain": [
              "49582"
            ]
          },
          "metadata": {},
          "execution_count": 12
        }
      ]
    },
    {
      "cell_type": "code",
      "source": [
        "data.shape"
      ],
      "metadata": {
        "colab": {
          "base_uri": "https://localhost:8080/"
        },
        "id": "akZbu86rTGUR",
        "outputId": "8d22a432-b7db-42ca-9535-d8f9857b7da1"
      },
      "execution_count": null,
      "outputs": [
        {
          "output_type": "execute_result",
          "data": {
            "text/plain": [
              "(50000, 2)"
            ]
          },
          "metadata": {},
          "execution_count": 13
        }
      ]
    },
    {
      "cell_type": "code",
      "source": [
        "class_counts = data['sentiment'].value_counts()\n",
        "class_counts.plot(kind='bar')\n",
        "plt.title('Class Distribution of Sentiments')\n",
        "plt.xlabel('Sentiments')\n",
        "plt.ylabel('Number of Reviews')\n",
        "plt.show()"
      ],
      "metadata": {
        "colab": {
          "base_uri": "https://localhost:8080/",
          "height": 519
        },
        "id": "0LgV7-3qTNMJ",
        "outputId": "cc15e4cf-a1b2-4ada-fcd6-8d06aec7ee79"
      },
      "execution_count": null,
      "outputs": [
        {
          "output_type": "display_data",
          "data": {
            "text/plain": [
              "<Figure size 640x480 with 1 Axes>"
            ],
            "image/png": "[encoded data removed]"
          },
          "metadata": {}
        }
      ]
    },
    {
      "cell_type": "code",
      "source": [
        "from collections import Counter\n",
        "import re\n",
        "\n",
        "import nltk\n",
        "from nltk.corpus import stopwords"
      ],
      "metadata": {
        "id": "FMbJGFrnTRGa"
      },
      "execution_count": null,
      "outputs": []
    },
    {
      "cell_type": "code",
      "source": [
        "all_text = ' '.join(data['review'].values)\n",
        "all_text = re.sub(r'http\\S+', '', all_text)\n",
        "all_text = re.sub(r'@\\S+', '', all_text)\n",
        "all_text = re.sub(r'#\\S+', '', all_text)"
      ],
      "metadata": {
        "id": "1nBVa1phTUnb"
      },
      "execution_count": null,
      "outputs": []
    },
    {
      "cell_type": "code",
      "source": [
        "words = all_text.split()"
      ],
      "metadata": {
        "id": "n0o4xcDDTXPL"
      },
      "execution_count": null,
      "outputs": []
    },
    {
      "cell_type": "code",
      "source": [
        "import nltk\n",
        "nltk.download('stopwords')\n",
        "stop_words = set(stopwords.words('english'))\n",
        "words = [word for word in words if not word in stop_words]\n",
        "words"
      ],
      "metadata": {
        "colab": {
          "base_uri": "https://localhost:8080/"
        },
        "id": "2V8fyy8jTZ7L",
        "outputId": "a4b64379-88e5-4d57-ca7d-298ea96959c4"
      },
      "execution_count": null,
      "outputs": [
        {
          "output_type": "stream",
          "name": "stderr",
          "text": [
            "[nltk_data] Downloading package stopwords to /root/nltk_data...\n",
            "[nltk_data]   Unzipping corpora/stopwords.zip.\n"
          ]
        },
        {
          "output_type": "execute_result",
          "data": {
            "text/plain": [
              "['One',\n",
              " 'reviewers',\n",
              " 'mentioned',\n",
              " 'watching',\n",
              " '1',\n",
              " 'Oz',\n",
              " 'episode',\n",
              " 'hooked.',\n",
              " 'They',\n",
              " 'right,',\n",
              " 'exactly',\n",
              " 'happened',\n",
              " 'me.<br',\n",
              " '/><br',\n",
              " '/>The',\n",
              " 'first',\n",
              " 'thing',\n",
              " 'struck',\n",
              " 'Oz',\n",
              " 'brutality',\n",
              " 'unflinching',\n",
              " 'scenes',\n",
              " 'violence,',\n",
              " 'set',\n",
              " 'right',\n",
              " 'word',\n",
              " 'GO.',\n",
              " 'Trust',\n",
              " 'me,',\n",
              " 'show',\n",
              " 'faint',\n",
              " 'hearted',\n",
              " 'timid.',\n",
              " 'This',\n",
              " 'show',\n",
              " 'pulls',\n",
              " 'punches',\n",
              " 'regards',\n",
              " 'drugs,',\n",
              " 'sex',\n",
              " 'violence.',\n",
              " 'Its',\n",
              " 'hardcore,',\n",
              " 'classic',\n",
              " 'use',\n",
              " 'word.<br',\n",
              " '/><br',\n",
              " '/>It',\n",
              " 'called',\n",
              " 'OZ',\n",
              " 'nickname',\n",
              " 'given',\n",
              " 'Oswald',\n",
              " 'Maximum',\n",
              " 'Security',\n",
              " 'State',\n",
              " 'Penitentary.',\n",
              " 'It',\n",
              " 'focuses',\n",
              " 'mainly',\n",
              " 'Emerald',\n",
              " 'City,',\n",
              " 'experimental',\n",
              " 'section',\n",
              " 'prison',\n",
              " 'cells',\n",
              " 'glass',\n",
              " 'fronts',\n",
              " 'face',\n",
              " 'inwards,',\n",
              " 'privacy',\n",
              " 'high',\n",
              " 'agenda.',\n",
              " 'Em',\n",
              " 'City',\n",
              " 'home',\n",
              " 'many..Aryans,',\n",
              " 'Muslims,',\n",
              " 'gangstas,',\n",
              " 'Latinos,',\n",
              " 'Christians,',\n",
              " 'Italians,',\n",
              " 'Irish',\n",
              " 'more....so',\n",
              " 'scuffles,',\n",
              " 'death',\n",
              " 'stares,',\n",
              " 'dodgy',\n",
              " 'dealings',\n",
              " 'shady',\n",
              " 'agreements',\n",
              " 'never',\n",
              " 'far',\n",
              " 'away.<br',\n",
              " '/><br',\n",
              " '/>I',\n",
              " 'would',\n",
              " 'say',\n",
              " 'main',\n",
              " 'appeal',\n",
              " 'show',\n",
              " 'due',\n",
              " 'fact',\n",
              " 'goes',\n",
              " 'shows',\n",
              " 'dare.',\n",
              " 'Forget',\n",
              " 'pretty',\n",
              " 'pictures',\n",
              " 'painted',\n",
              " 'mainstream',\n",
              " 'audiences,',\n",
              " 'forget',\n",
              " 'charm,',\n",
              " 'forget',\n",
              " 'romance...OZ',\n",
              " 'mess',\n",
              " 'around.',\n",
              " 'The',\n",
              " 'first',\n",
              " 'episode',\n",
              " 'I',\n",
              " 'ever',\n",
              " 'saw',\n",
              " 'struck',\n",
              " 'nasty',\n",
              " 'surreal,',\n",
              " 'I',\n",
              " 'say',\n",
              " 'I',\n",
              " 'ready',\n",
              " 'it,',\n",
              " 'I',\n",
              " 'watched',\n",
              " 'more,',\n",
              " 'I',\n",
              " 'developed',\n",
              " 'taste',\n",
              " 'Oz,',\n",
              " 'got',\n",
              " 'accustomed',\n",
              " 'high',\n",
              " 'levels',\n",
              " 'graphic',\n",
              " 'violence.',\n",
              " 'Not',\n",
              " 'violence,',\n",
              " 'injustice',\n",
              " '(crooked',\n",
              " 'guards',\n",
              " \"who'll\",\n",
              " 'sold',\n",
              " 'nickel,',\n",
              " 'inmates',\n",
              " \"who'll\",\n",
              " 'kill',\n",
              " 'order',\n",
              " 'get',\n",
              " 'away',\n",
              " 'it,',\n",
              " 'well',\n",
              " 'mannered,',\n",
              " 'middle',\n",
              " 'class',\n",
              " 'inmates',\n",
              " 'turned',\n",
              " 'prison',\n",
              " 'bitches',\n",
              " 'due',\n",
              " 'lack',\n",
              " 'street',\n",
              " 'skills',\n",
              " 'prison',\n",
              " 'experience)',\n",
              " 'Watching',\n",
              " 'Oz,',\n",
              " 'may',\n",
              " 'become',\n",
              " 'comfortable',\n",
              " 'uncomfortable',\n",
              " 'viewing....thats',\n",
              " 'get',\n",
              " 'touch',\n",
              " 'darker',\n",
              " 'side.',\n",
              " 'A',\n",
              " 'wonderful',\n",
              " 'little',\n",
              " 'production.',\n",
              " '<br',\n",
              " '/><br',\n",
              " '/>The',\n",
              " 'filming',\n",
              " 'technique',\n",
              " 'unassuming-',\n",
              " 'old-time-BBC',\n",
              " 'fashion',\n",
              " 'gives',\n",
              " 'comforting,',\n",
              " 'sometimes',\n",
              " 'discomforting,',\n",
              " 'sense',\n",
              " 'realism',\n",
              " 'entire',\n",
              " 'piece.',\n",
              " '<br',\n",
              " '/><br',\n",
              " '/>The',\n",
              " 'actors',\n",
              " 'extremely',\n",
              " 'well',\n",
              " 'chosen-',\n",
              " 'Michael',\n",
              " 'Sheen',\n",
              " '\"has',\n",
              " 'got',\n",
              " 'polari\"',\n",
              " 'voices',\n",
              " 'pat',\n",
              " 'too!',\n",
              " 'You',\n",
              " 'truly',\n",
              " 'see',\n",
              " 'seamless',\n",
              " 'editing',\n",
              " 'guided',\n",
              " 'references',\n",
              " \"Williams'\",\n",
              " 'diary',\n",
              " 'entries,',\n",
              " 'well',\n",
              " 'worth',\n",
              " 'watching',\n",
              " 'terrificly',\n",
              " 'written',\n",
              " 'performed',\n",
              " 'piece.',\n",
              " 'A',\n",
              " 'masterful',\n",
              " 'production',\n",
              " 'one',\n",
              " 'great',\n",
              " \"master's\",\n",
              " 'comedy',\n",
              " 'life.',\n",
              " '<br',\n",
              " '/><br',\n",
              " '/>The',\n",
              " 'realism',\n",
              " 'really',\n",
              " 'comes',\n",
              " 'home',\n",
              " 'little',\n",
              " 'things:',\n",
              " 'fantasy',\n",
              " 'guard',\n",
              " 'which,',\n",
              " 'rather',\n",
              " 'use',\n",
              " 'traditional',\n",
              " \"'dream'\",\n",
              " 'techniques',\n",
              " 'remains',\n",
              " 'solid',\n",
              " 'disappears.',\n",
              " 'It',\n",
              " 'plays',\n",
              " 'knowledge',\n",
              " 'senses,',\n",
              " 'particularly',\n",
              " 'scenes',\n",
              " 'concerning',\n",
              " 'Orton',\n",
              " 'Halliwell',\n",
              " 'sets',\n",
              " '(particularly',\n",
              " 'flat',\n",
              " \"Halliwell's\",\n",
              " 'murals',\n",
              " 'decorating',\n",
              " 'every',\n",
              " 'surface)',\n",
              " 'terribly',\n",
              " 'well',\n",
              " 'done.',\n",
              " 'I',\n",
              " 'thought',\n",
              " 'wonderful',\n",
              " 'way',\n",
              " 'spend',\n",
              " 'time',\n",
              " 'hot',\n",
              " 'summer',\n",
              " 'weekend,',\n",
              " 'sitting',\n",
              " 'air',\n",
              " 'conditioned',\n",
              " 'theater',\n",
              " 'watching',\n",
              " 'light-hearted',\n",
              " 'comedy.',\n",
              " 'The',\n",
              " 'plot',\n",
              " 'simplistic,',\n",
              " 'dialogue',\n",
              " 'witty',\n",
              " 'characters',\n",
              " 'likable',\n",
              " '(even',\n",
              " 'well',\n",
              " 'bread',\n",
              " 'suspected',\n",
              " 'serial',\n",
              " 'killer).',\n",
              " 'While',\n",
              " 'may',\n",
              " 'disappointed',\n",
              " 'realize',\n",
              " 'Match',\n",
              " 'Point',\n",
              " '2:',\n",
              " 'Risk',\n",
              " 'Addiction,',\n",
              " 'I',\n",
              " 'thought',\n",
              " 'proof',\n",
              " 'Woody',\n",
              " 'Allen',\n",
              " 'still',\n",
              " 'fully',\n",
              " 'control',\n",
              " 'style',\n",
              " 'many',\n",
              " 'us',\n",
              " 'grown',\n",
              " 'love.<br',\n",
              " '/><br',\n",
              " '/>This',\n",
              " \"I'd\",\n",
              " 'laughed',\n",
              " 'one',\n",
              " \"Woody's\",\n",
              " 'comedies',\n",
              " 'years',\n",
              " '(dare',\n",
              " 'I',\n",
              " 'say',\n",
              " 'decade?).',\n",
              " 'While',\n",
              " \"I've\",\n",
              " 'never',\n",
              " 'impressed',\n",
              " 'Scarlet',\n",
              " 'Johanson,',\n",
              " 'managed',\n",
              " 'tone',\n",
              " '\"sexy\"',\n",
              " 'image',\n",
              " 'jumped',\n",
              " 'right',\n",
              " 'average,',\n",
              " 'spirited',\n",
              " 'young',\n",
              " 'woman.<br',\n",
              " '/><br',\n",
              " '/>This',\n",
              " 'may',\n",
              " 'crown',\n",
              " 'jewel',\n",
              " 'career,',\n",
              " 'wittier',\n",
              " '\"Devil',\n",
              " 'Wears',\n",
              " 'Prada\"',\n",
              " 'interesting',\n",
              " '\"Superman\"',\n",
              " 'great',\n",
              " 'comedy',\n",
              " 'go',\n",
              " 'see',\n",
              " 'friends.',\n",
              " 'Basically',\n",
              " \"there's\",\n",
              " 'family',\n",
              " 'little',\n",
              " 'boy',\n",
              " '(Jake)',\n",
              " 'thinks',\n",
              " \"there's\",\n",
              " 'zombie',\n",
              " 'closet',\n",
              " '&',\n",
              " 'parents',\n",
              " 'fighting',\n",
              " 'time.<br',\n",
              " '/><br',\n",
              " '/>This',\n",
              " 'movie',\n",
              " 'slower',\n",
              " 'soap',\n",
              " 'opera...',\n",
              " 'suddenly,',\n",
              " 'Jake',\n",
              " 'decides',\n",
              " 'become',\n",
              " 'Rambo',\n",
              " 'kill',\n",
              " 'zombie.<br',\n",
              " '/><br',\n",
              " '/>OK,',\n",
              " 'first',\n",
              " 'going',\n",
              " 'make',\n",
              " 'film',\n",
              " 'must',\n",
              " 'Decide',\n",
              " 'thriller',\n",
              " 'drama!',\n",
              " 'As',\n",
              " 'drama',\n",
              " 'movie',\n",
              " 'watchable.',\n",
              " 'Parents',\n",
              " 'divorcing',\n",
              " '&',\n",
              " 'arguing',\n",
              " 'like',\n",
              " 'real',\n",
              " 'life.',\n",
              " 'And',\n",
              " 'Jake',\n",
              " 'closet',\n",
              " 'totally',\n",
              " 'ruins',\n",
              " 'film!',\n",
              " 'I',\n",
              " 'expected',\n",
              " 'see',\n",
              " 'BOOGEYMAN',\n",
              " 'similar',\n",
              " 'movie,',\n",
              " 'instead',\n",
              " 'watched',\n",
              " 'drama',\n",
              " 'meaningless',\n",
              " 'thriller',\n",
              " 'spots.<br',\n",
              " '/><br',\n",
              " '/>3',\n",
              " '10',\n",
              " 'well',\n",
              " 'playing',\n",
              " 'parents',\n",
              " '&',\n",
              " 'descent',\n",
              " 'dialogs.',\n",
              " 'As',\n",
              " 'shots',\n",
              " 'Jake:',\n",
              " 'ignore',\n",
              " 'them.',\n",
              " 'Petter',\n",
              " \"Mattei's\",\n",
              " '\"Love',\n",
              " 'Time',\n",
              " 'Money\"',\n",
              " 'visually',\n",
              " 'stunning',\n",
              " 'film',\n",
              " 'watch.',\n",
              " 'Mr.',\n",
              " 'Mattei',\n",
              " 'offers',\n",
              " 'us',\n",
              " 'vivid',\n",
              " 'portrait',\n",
              " 'human',\n",
              " 'relations.',\n",
              " 'This',\n",
              " 'movie',\n",
              " 'seems',\n",
              " 'telling',\n",
              " 'us',\n",
              " 'money,',\n",
              " 'power',\n",
              " 'success',\n",
              " 'people',\n",
              " 'different',\n",
              " 'situations',\n",
              " 'encounter.',\n",
              " '<br',\n",
              " '/><br',\n",
              " '/>This',\n",
              " 'variation',\n",
              " 'Arthur',\n",
              " \"Schnitzler's\",\n",
              " 'play',\n",
              " 'theme,',\n",
              " 'director',\n",
              " 'transfers',\n",
              " 'action',\n",
              " 'present',\n",
              " 'time',\n",
              " 'New',\n",
              " 'York',\n",
              " 'different',\n",
              " 'characters',\n",
              " 'meet',\n",
              " 'connect.',\n",
              " 'Each',\n",
              " 'one',\n",
              " 'connected',\n",
              " 'one',\n",
              " 'way,',\n",
              " 'another',\n",
              " 'next',\n",
              " 'person,',\n",
              " 'one',\n",
              " 'seems',\n",
              " 'know',\n",
              " 'previous',\n",
              " 'point',\n",
              " 'contact.',\n",
              " 'Stylishly,',\n",
              " 'film',\n",
              " 'sophisticated',\n",
              " 'luxurious',\n",
              " 'look.',\n",
              " 'We',\n",
              " 'taken',\n",
              " 'see',\n",
              " 'people',\n",
              " 'live',\n",
              " 'world',\n",
              " 'live',\n",
              " 'habitat.<br',\n",
              " '/><br',\n",
              " '/>The',\n",
              " 'thing',\n",
              " 'one',\n",
              " 'gets',\n",
              " 'souls',\n",
              " 'picture',\n",
              " 'different',\n",
              " 'stages',\n",
              " 'loneliness',\n",
              " 'one',\n",
              " 'inhabits.',\n",
              " 'A',\n",
              " 'big',\n",
              " 'city',\n",
              " 'exactly',\n",
              " 'best',\n",
              " 'place',\n",
              " 'human',\n",
              " 'relations',\n",
              " 'find',\n",
              " 'sincere',\n",
              " 'fulfillment,',\n",
              " 'one',\n",
              " 'discerns',\n",
              " 'case',\n",
              " 'people',\n",
              " 'encounter.<br',\n",
              " '/><br',\n",
              " '/>The',\n",
              " 'acting',\n",
              " 'good',\n",
              " 'Mr.',\n",
              " \"Mattei's\",\n",
              " 'direction.',\n",
              " 'Steve',\n",
              " 'Buscemi,',\n",
              " 'Rosario',\n",
              " 'Dawson,',\n",
              " 'Carol',\n",
              " 'Kane,',\n",
              " 'Michael',\n",
              " 'Imperioli,',\n",
              " 'Adrian',\n",
              " 'Grenier,',\n",
              " 'rest',\n",
              " 'talented',\n",
              " 'cast,',\n",
              " 'make',\n",
              " 'characters',\n",
              " 'come',\n",
              " 'alive.<br',\n",
              " '/><br',\n",
              " '/>We',\n",
              " 'wish',\n",
              " 'Mr.',\n",
              " 'Mattei',\n",
              " 'good',\n",
              " 'luck',\n",
              " 'await',\n",
              " 'anxiously',\n",
              " 'next',\n",
              " 'work.',\n",
              " 'Probably',\n",
              " 'all-time',\n",
              " 'favorite',\n",
              " 'movie,',\n",
              " 'story',\n",
              " 'selflessness,',\n",
              " 'sacrifice',\n",
              " 'dedication',\n",
              " 'noble',\n",
              " 'cause,',\n",
              " 'preachy',\n",
              " 'boring.',\n",
              " 'It',\n",
              " 'never',\n",
              " 'gets',\n",
              " 'old,',\n",
              " 'despite',\n",
              " 'seen',\n",
              " '15',\n",
              " 'times',\n",
              " 'last',\n",
              " '25',\n",
              " 'years.',\n",
              " 'Paul',\n",
              " \"Lukas'\",\n",
              " 'performance',\n",
              " 'brings',\n",
              " 'tears',\n",
              " 'eyes,',\n",
              " 'Bette',\n",
              " 'Davis,',\n",
              " 'one',\n",
              " 'truly',\n",
              " 'sympathetic',\n",
              " 'roles,',\n",
              " 'delight.',\n",
              " 'The',\n",
              " 'kids',\n",
              " 'are,',\n",
              " 'grandma',\n",
              " 'says,',\n",
              " 'like',\n",
              " '\"dressed-up',\n",
              " 'midgets\"',\n",
              " 'children,',\n",
              " 'makes',\n",
              " 'fun',\n",
              " 'watch.',\n",
              " 'And',\n",
              " \"mother's\",\n",
              " 'slow',\n",
              " 'awakening',\n",
              " \"what's\",\n",
              " 'happening',\n",
              " 'world',\n",
              " 'roof',\n",
              " 'believable',\n",
              " 'startling.',\n",
              " 'If',\n",
              " 'I',\n",
              " 'dozen',\n",
              " 'thumbs,',\n",
              " \"they'd\",\n",
              " '\"up\"',\n",
              " 'movie.',\n",
              " 'I',\n",
              " 'sure',\n",
              " 'would',\n",
              " 'like',\n",
              " 'see',\n",
              " 'resurrection',\n",
              " 'dated',\n",
              " 'Seahunt',\n",
              " 'series',\n",
              " 'tech',\n",
              " 'today',\n",
              " 'would',\n",
              " 'bring',\n",
              " 'back',\n",
              " 'kid',\n",
              " 'excitement',\n",
              " 'me.I',\n",
              " 'grew',\n",
              " 'black',\n",
              " 'white',\n",
              " 'TV',\n",
              " 'Seahunt',\n",
              " 'Gunsmoke',\n",
              " \"hero's\",\n",
              " 'every',\n",
              " 'week.You',\n",
              " 'vote',\n",
              " 'comeback',\n",
              " 'new',\n",
              " 'sea',\n",
              " 'hunt.We',\n",
              " 'need',\n",
              " 'change',\n",
              " 'pace',\n",
              " 'TV',\n",
              " 'would',\n",
              " 'work',\n",
              " 'world',\n",
              " 'water',\n",
              " 'adventure.Oh',\n",
              " 'way',\n",
              " 'thank',\n",
              " 'outlet',\n",
              " 'like',\n",
              " 'view',\n",
              " 'many',\n",
              " 'viewpoints',\n",
              " 'TV',\n",
              " 'many',\n",
              " 'movies.So',\n",
              " 'ole',\n",
              " 'way',\n",
              " 'I',\n",
              " 'believe',\n",
              " \"I've\",\n",
              " 'got',\n",
              " 'I',\n",
              " 'wanna',\n",
              " 'say.Would',\n",
              " 'nice',\n",
              " 'read',\n",
              " 'plus',\n",
              " 'points',\n",
              " 'sea',\n",
              " 'hunt.If',\n",
              " 'rhymes',\n",
              " 'would',\n",
              " '10',\n",
              " 'lines',\n",
              " 'would',\n",
              " 'let',\n",
              " 'submit,or',\n",
              " 'leave',\n",
              " 'doubt',\n",
              " 'quit,If',\n",
              " 'I',\n",
              " 'must',\n",
              " 'go',\n",
              " 'lets',\n",
              " 'it.',\n",
              " 'This',\n",
              " 'show',\n",
              " 'amazing,',\n",
              " 'fresh',\n",
              " '&',\n",
              " 'innovative',\n",
              " 'idea',\n",
              " \"70's\",\n",
              " 'first',\n",
              " 'aired.',\n",
              " 'The',\n",
              " 'first',\n",
              " '7',\n",
              " '8',\n",
              " 'years',\n",
              " 'brilliant,',\n",
              " 'things',\n",
              " 'dropped',\n",
              " 'that.',\n",
              " 'By',\n",
              " '1990,',\n",
              " 'show',\n",
              " 'really',\n",
              " 'funny',\n",
              " 'anymore,',\n",
              " 'continued',\n",
              " 'decline',\n",
              " 'complete',\n",
              " 'waste',\n",
              " 'time',\n",
              " 'today.<br',\n",
              " '/><br',\n",
              " \"/>It's\",\n",
              " 'truly',\n",
              " 'disgraceful',\n",
              " 'far',\n",
              " 'show',\n",
              " 'fallen.',\n",
              " 'The',\n",
              " 'writing',\n",
              " 'painfully',\n",
              " 'bad,',\n",
              " 'performances',\n",
              " 'almost',\n",
              " 'bad',\n",
              " '-',\n",
              " 'mildly',\n",
              " 'entertaining',\n",
              " 'respite',\n",
              " 'guest-hosts,',\n",
              " 'show',\n",
              " 'probably',\n",
              " 'still',\n",
              " 'air.',\n",
              " 'I',\n",
              " 'find',\n",
              " 'hard',\n",
              " 'believe',\n",
              " 'creator',\n",
              " 'hand-selected',\n",
              " 'original',\n",
              " 'cast',\n",
              " 'also',\n",
              " 'chose',\n",
              " 'band',\n",
              " 'hacks',\n",
              " 'followed.',\n",
              " 'How',\n",
              " 'one',\n",
              " 'recognize',\n",
              " 'brilliance',\n",
              " 'see',\n",
              " 'fit',\n",
              " 'replace',\n",
              " 'mediocrity?',\n",
              " 'I',\n",
              " 'felt',\n",
              " 'I',\n",
              " 'must',\n",
              " 'give',\n",
              " '2',\n",
              " 'stars',\n",
              " 'respect',\n",
              " 'original',\n",
              " 'cast',\n",
              " 'made',\n",
              " 'show',\n",
              " 'huge',\n",
              " 'success.',\n",
              " 'As',\n",
              " 'now,',\n",
              " 'show',\n",
              " 'awful.',\n",
              " 'I',\n",
              " \"can't\",\n",
              " 'believe',\n",
              " 'still',\n",
              " 'air.',\n",
              " 'Encouraged',\n",
              " 'positive',\n",
              " 'comments',\n",
              " 'film',\n",
              " 'I',\n",
              " 'looking',\n",
              " 'forward',\n",
              " 'watching',\n",
              " 'film.',\n",
              " 'Bad',\n",
              " 'mistake.',\n",
              " \"I've\",\n",
              " 'seen',\n",
              " '950+',\n",
              " 'films',\n",
              " 'truly',\n",
              " 'one',\n",
              " 'worst',\n",
              " '-',\n",
              " 'awful',\n",
              " 'almost',\n",
              " 'every',\n",
              " 'way:',\n",
              " 'editing,',\n",
              " 'pacing,',\n",
              " 'storyline,',\n",
              " \"'acting,'\",\n",
              " 'soundtrack',\n",
              " '(the',\n",
              " \"film's\",\n",
              " 'song',\n",
              " '-',\n",
              " 'lame',\n",
              " 'country',\n",
              " 'tune',\n",
              " '-',\n",
              " 'played',\n",
              " 'less',\n",
              " 'four',\n",
              " 'times).',\n",
              " 'The',\n",
              " 'film',\n",
              " 'looks',\n",
              " 'cheap',\n",
              " 'nasty',\n",
              " 'boring',\n",
              " 'extreme.',\n",
              " 'Rarely',\n",
              " 'I',\n",
              " 'happy',\n",
              " 'see',\n",
              " 'end',\n",
              " 'credits',\n",
              " 'film.',\n",
              " '<br',\n",
              " '/><br',\n",
              " '/>The',\n",
              " 'thing',\n",
              " 'prevents',\n",
              " 'giving',\n",
              " '1-score',\n",
              " 'Harvey',\n",
              " 'Keitel',\n",
              " '-',\n",
              " 'far',\n",
              " 'best',\n",
              " 'performance',\n",
              " 'least',\n",
              " 'seems',\n",
              " 'making',\n",
              " 'bit',\n",
              " 'effort.',\n",
              " 'One',\n",
              " 'Keitel',\n",
              " 'obsessives',\n",
              " 'only.',\n",
              " 'If',\n",
              " 'like',\n",
              " 'original',\n",
              " 'gut',\n",
              " 'wrenching',\n",
              " 'laughter',\n",
              " 'like',\n",
              " 'movie.',\n",
              " 'If',\n",
              " 'young',\n",
              " 'old',\n",
              " 'love',\n",
              " 'movie,',\n",
              " 'hell',\n",
              " 'even',\n",
              " 'mom',\n",
              " 'liked',\n",
              " 'it.<br',\n",
              " '/><br',\n",
              " '/>Great',\n",
              " 'Camp!!!',\n",
              " 'Phil',\n",
              " 'Alien',\n",
              " 'one',\n",
              " 'quirky',\n",
              " 'films',\n",
              " 'humour',\n",
              " 'based',\n",
              " 'around',\n",
              " 'oddness',\n",
              " 'everything',\n",
              " 'rather',\n",
              " 'actual',\n",
              " 'punchlines.<br',\n",
              " '/><br',\n",
              " '/>At',\n",
              " 'first',\n",
              " 'odd',\n",
              " 'pretty',\n",
              " 'funny',\n",
              " 'movie',\n",
              " 'progressed',\n",
              " 'I',\n",
              " 'find',\n",
              " 'jokes',\n",
              " 'oddness',\n",
              " 'funny',\n",
              " 'anymore.<br',\n",
              " '/><br',\n",
              " '/>Its',\n",
              " 'low',\n",
              " 'budget',\n",
              " 'film',\n",
              " '(thats',\n",
              " 'never',\n",
              " 'problem',\n",
              " 'itself),',\n",
              " 'pretty',\n",
              " 'interesting',\n",
              " 'characters,',\n",
              " 'eventually',\n",
              " 'I',\n",
              " 'lost',\n",
              " 'interest.<br',\n",
              " '/><br',\n",
              " '/>I',\n",
              " 'imagine',\n",
              " 'film',\n",
              " 'would',\n",
              " 'appeal',\n",
              " 'stoner',\n",
              " 'currently',\n",
              " 'partaking.<br',\n",
              " '/><br',\n",
              " '/>For',\n",
              " 'something',\n",
              " 'similar',\n",
              " 'better',\n",
              " 'try',\n",
              " '\"Brother',\n",
              " 'another',\n",
              " 'planet\"',\n",
              " ...]"
            ]
          },
          "metadata": {},
          "execution_count": 18
        }
      ]
    },
    {
      "cell_type": "code",
      "source": [
        "word_counts = Counter(words)\n",
        "top_words = word_counts.most_common(100)\n",
        "top_words"
      ],
      "metadata": {
        "colab": {
          "base_uri": "https://localhost:8080/"
        },
        "id": "Lqr1neskTknz",
        "outputId": "101e3e24-510a-45b9-acf0-188652d147f4"
      },
      "execution_count": null,
      "outputs": [
        {
          "output_type": "execute_result",
          "data": {
            "text/plain": [
              "[('I', 132498),\n",
              " ('/><br', 100974),\n",
              " ('The', 67317),\n",
              " ('movie', 60762),\n",
              " ('film', 54277),\n",
              " ('one', 41334),\n",
              " ('like', 36028),\n",
              " ('This', 24329),\n",
              " ('would', 23578),\n",
              " ('good', 22582),\n",
              " ('It', 21475),\n",
              " ('really', 21322),\n",
              " ('even', 20979),\n",
              " ('see', 20364),\n",
              " ('-', 18201),\n",
              " ('get', 17333),\n",
              " ('much', 16827),\n",
              " ('story', 16443),\n",
              " ('time', 15312),\n",
              " ('make', 14859),\n",
              " ('could', 14689),\n",
              " ('also', 14607),\n",
              " ('people', 14414),\n",
              " ('great', 14385),\n",
              " ('/>The', 14335),\n",
              " ('first', 14283),\n",
              " ('made', 13418),\n",
              " ('think', 13083),\n",
              " ('bad', 12847),\n",
              " ('many', 12175),\n",
              " ('<br', 12028),\n",
              " ('never', 11984),\n",
              " ('two', 11489),\n",
              " ('But', 11435),\n",
              " ('little', 11206),\n",
              " ('it.', 11116),\n",
              " ('way', 11089),\n",
              " ('And', 11060),\n",
              " ('well', 10789),\n",
              " ('watch', 10688),\n",
              " ('movie.', 10659),\n",
              " ('know', 10656),\n",
              " ('seen', 10554),\n",
              " ('characters', 10448),\n",
              " ('character', 10307),\n",
              " (\"It's\", 10224),\n",
              " ('movies', 10118),\n",
              " ('love', 10033),\n",
              " ('best', 9899),\n",
              " ('ever', 9897),\n",
              " ('A', 9656),\n",
              " ('In', 9482),\n",
              " ('films', 9406),\n",
              " ('still', 9405),\n",
              " ('plot', 9305),\n",
              " ('acting', 9182),\n",
              " ('show', 9095),\n",
              " ('He', 8894),\n",
              " ('film.', 8878),\n",
              " ('better', 8866),\n",
              " ('say', 8716),\n",
              " ('If', 8687),\n",
              " ('something', 8459),\n",
              " ('go', 8322),\n",
              " ('scene', 8183),\n",
              " ('makes', 8144),\n",
              " ('film,', 8097),\n",
              " ('find', 7952),\n",
              " ('movie,', 7948),\n",
              " ('There', 7889),\n",
              " (\"I'm\", 7878),\n",
              " ('watching', 7757),\n",
              " ('real', 7716),\n",
              " ('scenes', 7713),\n",
              " ('back', 7644),\n",
              " ('actually', 7618),\n",
              " ('going', 7559),\n",
              " ('/>I', 7347),\n",
              " ('life', 7231),\n",
              " ('lot', 7229),\n",
              " ('look', 7111),\n",
              " ('&', 7064),\n",
              " ('thing', 6954),\n",
              " ('want', 6953),\n",
              " ('quite', 6933),\n",
              " ('every', 6926),\n",
              " ('seems', 6763),\n",
              " ('end', 6762),\n",
              " ('pretty', 6718),\n",
              " (\"can't\", 6699),\n",
              " ('man', 6670),\n",
              " ('old', 6640),\n",
              " ('got', 6630),\n",
              " ('nothing', 6608),\n",
              " ('actors', 6528),\n",
              " ('another', 6499),\n",
              " ('years', 6340),\n",
              " ('give', 6304),\n",
              " ('take', 6298),\n",
              " ('part', 6197)]"
            ]
          },
          "metadata": {},
          "execution_count": 19
        }
      ]
    },
    {
      "cell_type": "code",
      "source": [
        "top_words = word_counts.most_common(10)\n",
        "x_values = [word[0] for word in top_words]\n",
        "y_values = [word[1] for word in top_words]\n",
        "plt.bar(x_values, y_values)\n",
        "plt.xlabel('Word')\n",
        "plt.ylabel('Frequency')\n",
        "plt.title('Most Commonly Used Words')\n",
        "plt.show()"
      ],
      "metadata": {
        "colab": {
          "base_uri": "https://localhost:8080/",
          "height": 472
        },
        "id": "Z4QsfBxITo5T",
        "outputId": "c7635890-2e09-4159-ac90-41f3b0a65239"
      },
      "execution_count": null,
      "outputs": [
        {
          "output_type": "display_data",
          "data": {
            "text/plain": [
              "<Figure size 640x480 with 1 Axes>"
            ],
            "image/png": "[encoded data removed]"
          },
          "metadata": {}
        }
      ]
    },
    {
      "cell_type": "code",
      "source": [
        "def clean_text(text):\n",
        "    text = re.sub('<.*?>', '', text)\n",
        "\n",
        "    text = re.sub('[^a-zA-Z]', ' ', text).lower()\n",
        "\n",
        "    words = nltk.word_tokenize(text)\n",
        "\n",
        "    words = [w for w in words if w not in stopwords.words('english')]\n",
        "\n",
        "    stemmer = PorterStemmer()\n",
        "    words = [stemmer.stem(w) for w in words]\n",
        "\n",
        "    text = ' '.join(words)\n",
        "    return text"
      ],
      "metadata": {
        "id": "bDtWP3lcTsnT"
      },
      "execution_count": null,
      "outputs": []
    },
    {
      "cell_type": "code",
      "source": [
        "import nltk\n",
        "nltk.download('punkt')\n",
        "\n",
        "tqdm.pandas()\n",
        "\n",
        "data['cleaned_text'] = data['review'].progress_apply(clean_text)"
      ],
      "metadata": {
        "colab": {
          "base_uri": "https://localhost:8080/",
          "height": 84,
          "referenced_widgets": [
            "2342716598bf4737bf8d122e20e7fd39",
            "73d73eea3b244671bbb313209311dc21",
            "862a963305244e6c9d2d17fc22722811",
            "9514c512ab9a47d9836d0553e7a07e2d",
            "03d3f16f6b964ecab6ab10fd7c1e361c",
            "2c216600a8374d33a329875169c30062",
            "8c4c57e68f0b4d59b56ff92fc18e4a15",
            "d68131de484e4bacb99d823e449ef239",
            "250372b561444c2e9a7954bd94aa67d7",
            "185a4a0903f24cf48a31795b0a411948",
            "26cbfc2c07db4f6f88b0311d29529d4c"
          ]
        },
        "id": "3fqElnKNTxJT",
        "outputId": "603de0b9-50ad-405d-8000-9b2ea1d7fa63"
      },
      "execution_count": null,
      "outputs": [
        {
          "output_type": "stream",
          "name": "stderr",
          "text": [
            "[nltk_data] Downloading package punkt to /root/nltk_data...\n",
            "[nltk_data]   Package punkt is already up-to-date!\n"
          ]
        },
        {
          "output_type": "display_data",
          "data": {
            "text/plain": [
              "  0%|          | 0/50000 [00:00<?, ?it/s]"
            ],
            "application/vnd.jupyter.widget-view+json": {
              "version_major": 2,
              "version_minor": 0,
              "model_id": "2342716598bf4737bf8d122e20e7fd39"
            }
          },
          "metadata": {}
        }
      ]
    },
    {
      "cell_type": "code",
      "source": [
        "cv = CountVectorizer(max_features=5000)\n",
        "X = cv.fit_transform(data['cleaned_text']).toarray()\n",
        "y = data['sentiment']\n"
      ],
      "metadata": {
        "id": "OgRpZgohbgvU"
      },
      "execution_count": null,
      "outputs": []
    },
    {
      "cell_type": "code",
      "source": [
        "from sklearn.model_selection import train_test_split\n",
        "X_train, X_test, y_train, y_test = train_test_split(X, y, test_size=0.2, random_state=42)"
      ],
      "metadata": {
        "id": "NmBQ0C16blHK"
      },
      "execution_count": null,
      "outputs": []
    },
    {
      "cell_type": "code",
      "source": [
        "from sklearn.linear_model import LogisticRegression\n",
        "from sklearn.metrics import accuracy_score"
      ],
      "metadata": {
        "id": "lOPJPCt7bpxn"
      },
      "execution_count": null,
      "outputs": []
    },
    {
      "cell_type": "code",
      "source": [
        "clf = LogisticRegression(max_iter = 1000)\n",
        "clf.fit(X_train, y_train)"
      ],
      "metadata": {
        "colab": {
          "base_uri": "https://localhost:8080/",
          "height": 75
        },
        "id": "tsVoSNIGbtrC",
        "outputId": "716228c0-58b9-45d3-afdc-c13bcca6d498"
      },
      "execution_count": null,
      "outputs": [
        {
          "output_type": "execute_result",
          "data": {
            "text/plain": [
              "LogisticRegression(max_iter=1000)"
            ],
            "text/html": [
              "<style>#sk-container-id-1 {color: black;background-color: white;}#sk-container-id-1 pre{padding: 0;}#sk-container-id-1 div.sk-toggleable {background-color: white;}#sk-container-id-1 label.sk-toggleable__label {cursor: pointer;display: block;width: 100%;margin-bottom: 0;padding: 0.3em;box-sizing: border-box;text-align: center;}#sk-container-id-1 label.sk-toggleable__label-arrow:before {content: \"▸\";float: left;margin-right: 0.25em;color: #696969;}#sk-container-id-1 label.sk-toggleable__label-arrow:hover:before {color: black;}#sk-container-id-1 div.sk-estimator:hover label.sk-toggleable__label-arrow:before {color: black;}#sk-container-id-1 div.sk-toggleable__content {max-height: 0;max-width: 0;overflow: hidden;text-align: left;background-color: #f0f8ff;}#sk-container-id-1 div.sk-toggleable__content pre {margin: 0.2em;color: black;border-radius: 0.25em;background-color: #f0f8ff;}#sk-container-id-1 input.sk-toggleable__control:checked~div.sk-toggleable__content {max-height: 200px;max-width: 100%;overflow: auto;}#sk-container-id-1 input.sk-toggleable__control:checked~label.sk-toggleable__label-arrow:before {content: \"▾\";}#sk-container-id-1 div.sk-estimator input.sk-toggleable__control:checked~label.sk-toggleable__label {background-color: #d4ebff;}#sk-container-id-1 div.sk-label input.sk-toggleable__control:checked~label.sk-toggleable__label {background-color: #d4ebff;}#sk-container-id-1 input.sk-hidden--visually {border: 0;clip: rect(1px 1px 1px 1px);clip: rect(1px, 1px, 1px, 1px);height: 1px;margin: -1px;overflow: hidden;padding: 0;position: absolute;width: 1px;}#sk-container-id-1 div.sk-estimator {font-family: monospace;background-color: #f0f8ff;border: 1px dotted black;border-radius: 0.25em;box-sizing: border-box;margin-bottom: 0.5em;}#sk-container-id-1 div.sk-estimator:hover {background-color: #d4ebff;}#sk-container-id-1 div.sk-parallel-item::after {content: \"\";width: 100%;border-bottom: 1px solid gray;flex-grow: 1;}#sk-container-id-1 div.sk-label:hover label.sk-toggleable__label {background-color: #d4ebff;}#sk-container-id-1 div.sk-serial::before {content: \"\";position: absolute;border-left: 1px solid gray;box-sizing: border-box;top: 0;bottom: 0;left: 50%;z-index: 0;}#sk-container-id-1 div.sk-serial {display: flex;flex-direction: column;align-items: center;background-color: white;padding-right: 0.2em;padding-left: 0.2em;position: relative;}#sk-container-id-1 div.sk-item {position: relative;z-index: 1;}#sk-container-id-1 div.sk-parallel {display: flex;align-items: stretch;justify-content: center;background-color: white;position: relative;}#sk-container-id-1 div.sk-item::before, #sk-container-id-1 div.sk-parallel-item::before {content: \"\";position: absolute;border-left: 1px solid gray;box-sizing: border-box;top: 0;bottom: 0;left: 50%;z-index: -1;}#sk-container-id-1 div.sk-parallel-item {display: flex;flex-direction: column;z-index: 1;position: relative;background-color: white;}#sk-container-id-1 div.sk-parallel-item:first-child::after {align-self: flex-end;width: 50%;}#sk-container-id-1 div.sk-parallel-item:last-child::after {align-self: flex-start;width: 50%;}#sk-container-id-1 div.sk-parallel-item:only-child::after {width: 0;}#sk-container-id-1 div.sk-dashed-wrapped {border: 1px dashed gray;margin: 0 0.4em 0.5em 0.4em;box-sizing: border-box;padding-bottom: 0.4em;background-color: white;}#sk-container-id-1 div.sk-label label {font-family: monospace;font-weight: bold;display: inline-block;line-height: 1.2em;}#sk-container-id-1 div.sk-label-container {text-align: center;}#sk-container-id-1 div.sk-container {/* jupyter's `normalize.less` sets `[hidden] { display: none; }` but bootstrap.min.css set `[hidden] { display: none !important; }` so we also need the `!important` here to be able to override the default hidden behavior on the sphinx rendered scikit-learn.org. See: https://github.com/scikit-learn/scikit-learn/issues/21755 */display: inline-block !important;position: relative;}#sk-container-id-1 div.sk-text-repr-fallback {display: none;}</style><div id=\"sk-container-id-1\" class=\"sk-top-container\"><div class=\"sk-text-repr-fallback\"><pre>LogisticRegression(max_iter=1000)</pre><b>In a Jupyter environment, please rerun this cell to show the HTML representation or trust the notebook. <br />On GitHub, the HTML representation is unable to render, please try loading this page with nbviewer.org.</b></div><div class=\"sk-container\" hidden><div class=\"sk-item\"><div class=\"sk-estimator sk-toggleable\"><input class=\"sk-toggleable__control sk-hidden--visually\" id=\"sk-estimator-id-1\" type=\"checkbox\" checked><label for=\"sk-estimator-id-1\" class=\"sk-toggleable__label sk-toggleable__label-arrow\">LogisticRegression</label><div class=\"sk-toggleable__content\"><pre>LogisticRegression(max_iter=1000)</pre></div></div></div></div></div>"
            ]
          },
          "metadata": {},
          "execution_count": 28
        }
      ]
    },
    {
      "cell_type": "code",
      "source": [
        "y_pred = clf.predict(X_test)\n",
        "y_pred"
      ],
      "metadata": {
        "colab": {
          "base_uri": "https://localhost:8080/"
        },
        "id": "cu5UIQRObyj7",
        "outputId": "5ee40163-379b-4ca8-8aa2-d4d75effe6e3"
      },
      "execution_count": null,
      "outputs": [
        {
          "output_type": "execute_result",
          "data": {
            "text/plain": [
              "array(['negative', 'positive', 'negative', ..., 'positive', 'negative',\n",
              "       'positive'], dtype=object)"
            ]
          },
          "metadata": {},
          "execution_count": 29
        }
      ]
    },
    {
      "cell_type": "code",
      "source": [
        "acc = accuracy_score(y_test, y_pred)\n",
        "print(\"Accuracy:\", acc)"
      ],
      "metadata": {
        "colab": {
          "base_uri": "https://localhost:8080/"
        },
        "id": "KBpKH7IGb5xD",
        "outputId": "460b660b-5f66-458e-811b-114cb6c37a8c"
      },
      "execution_count": null,
      "outputs": [
        {
          "output_type": "stream",
          "name": "stdout",
          "text": [
            "Accuracy: 0.8714\n"
          ]
        }
      ]
    },
    {
      "cell_type": "code",
      "source": [
        "from sklearn.metrics import confusion_matrix\n",
        "cm = confusion_matrix(y_test, y_pred)\n",
        "print(cm)\n",
        "import seaborn as sns\n",
        "sns.heatmap(cm, annot=True)"
      ],
      "metadata": {
        "colab": {
          "base_uri": "https://localhost:8080/",
          "height": 482
        },
        "id": "km6LwoVRb-8M",
        "outputId": "1d723538-9830-4260-af17-a505aec12b11"
      },
      "execution_count": null,
      "outputs": [
        {
          "output_type": "stream",
          "name": "stdout",
          "text": [
            "[[4284  677]\n",
            " [ 609 4430]]\n"
          ]
        },
        {
          "output_type": "execute_result",
          "data": {
            "text/plain": [
              "<Axes: >"
            ]
          },
          "metadata": {},
          "execution_count": 31
        },
        {
          "output_type": "display_data",
          "data": {
            "text/plain": [
              "<Figure size 640x480 with 2 Axes>"
            ],
            "image/png": "[encoded data removed]"
          },
          "metadata": {}
        }
      ]
    },
    {
      "cell_type": "code",
      "source": [
        "from sklearn.tree import DecisionTreeClassifier\n",
        "from sklearn.metrics import accuracy_score\n",
        "dt = DecisionTreeClassifier()"
      ],
      "metadata": {
        "id": "OB7vDGRXelzr"
      },
      "execution_count": null,
      "outputs": []
    },
    {
      "cell_type": "code",
      "source": [
        "dt.fit(X_train, y_train)"
      ],
      "metadata": {
        "id": "UN-DscrucKBM",
        "colab": {
          "base_uri": "https://localhost:8080/",
          "height": 75
        },
        "outputId": "4e71df9e-3010-45dc-8593-fb27be24f5c4"
      },
      "execution_count": null,
      "outputs": [
        {
          "output_type": "execute_result",
          "data": {
            "text/plain": [
              "DecisionTreeClassifier()"
            ],
            "text/html": [
              "<style>#sk-container-id-2 {color: black;background-color: white;}#sk-container-id-2 pre{padding: 0;}#sk-container-id-2 div.sk-toggleable {background-color: white;}#sk-container-id-2 label.sk-toggleable__label {cursor: pointer;display: block;width: 100%;margin-bottom: 0;padding: 0.3em;box-sizing: border-box;text-align: center;}#sk-container-id-2 label.sk-toggleable__label-arrow:before {content: \"▸\";float: left;margin-right: 0.25em;color: #696969;}#sk-container-id-2 label.sk-toggleable__label-arrow:hover:before {color: black;}#sk-container-id-2 div.sk-estimator:hover label.sk-toggleable__label-arrow:before {color: black;}#sk-container-id-2 div.sk-toggleable__content {max-height: 0;max-width: 0;overflow: hidden;text-align: left;background-color: #f0f8ff;}#sk-container-id-2 div.sk-toggleable__content pre {margin: 0.2em;color: black;border-radius: 0.25em;background-color: #f0f8ff;}#sk-container-id-2 input.sk-toggleable__control:checked~div.sk-toggleable__content {max-height: 200px;max-width: 100%;overflow: auto;}#sk-container-id-2 input.sk-toggleable__control:checked~label.sk-toggleable__label-arrow:before {content: \"▾\";}#sk-container-id-2 div.sk-estimator input.sk-toggleable__control:checked~label.sk-toggleable__label {background-color: #d4ebff;}#sk-container-id-2 div.sk-label input.sk-toggleable__control:checked~label.sk-toggleable__label {background-color: #d4ebff;}#sk-container-id-2 input.sk-hidden--visually {border: 0;clip: rect(1px 1px 1px 1px);clip: rect(1px, 1px, 1px, 1px);height: 1px;margin: -1px;overflow: hidden;padding: 0;position: absolute;width: 1px;}#sk-container-id-2 div.sk-estimator {font-family: monospace;background-color: #f0f8ff;border: 1px dotted black;border-radius: 0.25em;box-sizing: border-box;margin-bottom: 0.5em;}#sk-container-id-2 div.sk-estimator:hover {background-color: #d4ebff;}#sk-container-id-2 div.sk-parallel-item::after {content: \"\";width: 100%;border-bottom: 1px solid gray;flex-grow: 1;}#sk-container-id-2 div.sk-label:hover label.sk-toggleable__label {background-color: #d4ebff;}#sk-container-id-2 div.sk-serial::before {content: \"\";position: absolute;border-left: 1px solid gray;box-sizing: border-box;top: 0;bottom: 0;left: 50%;z-index: 0;}#sk-container-id-2 div.sk-serial {display: flex;flex-direction: column;align-items: center;background-color: white;padding-right: 0.2em;padding-left: 0.2em;position: relative;}#sk-container-id-2 div.sk-item {position: relative;z-index: 1;}#sk-container-id-2 div.sk-parallel {display: flex;align-items: stretch;justify-content: center;background-color: white;position: relative;}#sk-container-id-2 div.sk-item::before, #sk-container-id-2 div.sk-parallel-item::before {content: \"\";position: absolute;border-left: 1px solid gray;box-sizing: border-box;top: 0;bottom: 0;left: 50%;z-index: -1;}#sk-container-id-2 div.sk-parallel-item {display: flex;flex-direction: column;z-index: 1;position: relative;background-color: white;}#sk-container-id-2 div.sk-parallel-item:first-child::after {align-self: flex-end;width: 50%;}#sk-container-id-2 div.sk-parallel-item:last-child::after {align-self: flex-start;width: 50%;}#sk-container-id-2 div.sk-parallel-item:only-child::after {width: 0;}#sk-container-id-2 div.sk-dashed-wrapped {border: 1px dashed gray;margin: 0 0.4em 0.5em 0.4em;box-sizing: border-box;padding-bottom: 0.4em;background-color: white;}#sk-container-id-2 div.sk-label label {font-family: monospace;font-weight: bold;display: inline-block;line-height: 1.2em;}#sk-container-id-2 div.sk-label-container {text-align: center;}#sk-container-id-2 div.sk-container {/* jupyter's `normalize.less` sets `[hidden] { display: none; }` but bootstrap.min.css set `[hidden] { display: none !important; }` so we also need the `!important` here to be able to override the default hidden behavior on the sphinx rendered scikit-learn.org. See: https://github.com/scikit-learn/scikit-learn/issues/21755 */display: inline-block !important;position: relative;}#sk-container-id-2 div.sk-text-repr-fallback {display: none;}</style><div id=\"sk-container-id-2\" class=\"sk-top-container\"><div class=\"sk-text-repr-fallback\"><pre>DecisionTreeClassifier()</pre><b>In a Jupyter environment, please rerun this cell to show the HTML representation or trust the notebook. <br />On GitHub, the HTML representation is unable to render, please try loading this page with nbviewer.org.</b></div><div class=\"sk-container\" hidden><div class=\"sk-item\"><div class=\"sk-estimator sk-toggleable\"><input class=\"sk-toggleable__control sk-hidden--visually\" id=\"sk-estimator-id-2\" type=\"checkbox\" checked><label for=\"sk-estimator-id-2\" class=\"sk-toggleable__label sk-toggleable__label-arrow\">DecisionTreeClassifier</label><div class=\"sk-toggleable__content\"><pre>DecisionTreeClassifier()</pre></div></div></div></div></div>"
            ]
          },
          "metadata": {},
          "execution_count": 33
        }
      ]
    },
    {
      "cell_type": "code",
      "source": [
        "y_pred = dt.predict(X_test)\n",
        "y_pred"
      ],
      "metadata": {
        "id": "ij4Efcx7ec98",
        "colab": {
          "base_uri": "https://localhost:8080/"
        },
        "outputId": "d7ba636e-bfaa-4a48-c1cc-7542d42e4be1"
      },
      "execution_count": null,
      "outputs": [
        {
          "output_type": "execute_result",
          "data": {
            "text/plain": [
              "array(['negative', 'positive', 'negative', ..., 'positive', 'negative',\n",
              "       'positive'], dtype=object)"
            ]
          },
          "metadata": {},
          "execution_count": 34
        }
      ]
    },
    {
      "cell_type": "code",
      "source": [],
      "metadata": {
        "id": "3vitWQmRfNtY"
      },
      "execution_count": null,
      "outputs": []
    },
    {
      "cell_type": "code",
      "source": [
        "acc = accuracy_score(y_test, y_pred)\n",
        "print(\"Accuracy:\", acc)"
      ],
      "metadata": {
        "colab": {
          "base_uri": "https://localhost:8080/"
        },
        "id": "102NUGAFVosK",
        "outputId": "c60d7aae-dd3a-4f34-815c-4afcbca259b8"
      },
      "execution_count": null,
      "outputs": [
        {
          "output_type": "stream",
          "name": "stdout",
          "text": [
            "Accuracy: 0.724\n"
          ]
        }
      ]
    },
    {
      "cell_type": "code",
      "source": [
        "from sklearn.metrics import confusion_matrix\n",
        "cm = confusion_matrix(y_test, y_pred)\n",
        "\n",
        "import seaborn as sns\n",
        "sns.heatmap(cm, annot=True)"
      ],
      "metadata": {
        "colab": {
          "base_uri": "https://localhost:8080/",
          "height": 447
        },
        "id": "3kshqMHRVqtZ",
        "outputId": "a948d18c-838c-4b4d-c8e9-c09116e184a0"
      },
      "execution_count": null,
      "outputs": [
        {
          "output_type": "execute_result",
          "data": {
            "text/plain": [
              "<Axes: >"
            ]
          },
          "metadata": {},
          "execution_count": 36
        },
        {
          "output_type": "display_data",
          "data": {
            "text/plain": [
              "<Figure size 640x480 with 2 Axes>"
            ],
            "image/png": "[encoded data removed]"
          },
          "metadata": {}
        }
      ]
    },
    {
      "cell_type": "code",
      "source": [
        "cm"
      ],
      "metadata": {
        "colab": {
          "base_uri": "https://localhost:8080/"
        },
        "id": "oyXkFUwgVwIW",
        "outputId": "1091cef9-b1fe-4ff2-bbb1-47bee0efa326"
      },
      "execution_count": null,
      "outputs": [
        {
          "output_type": "execute_result",
          "data": {
            "text/plain": [
              "array([[3620, 1341],\n",
              "       [1419, 3620]])"
            ]
          },
          "metadata": {},
          "execution_count": 37
        }
      ]
    }
  ]
}